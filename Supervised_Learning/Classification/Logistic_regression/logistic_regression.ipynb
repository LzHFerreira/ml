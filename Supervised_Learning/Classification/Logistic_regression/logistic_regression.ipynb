{
 "cells": [
  {
   "cell_type": "code",
   "execution_count": null,
   "id": "a63f2a63",
   "metadata": {},
   "outputs": [],
   "source": [
    "import pandas as pd\n",
    "\n",
    "# URL for the dataset\n",
    "DATA_URL = \"https://raw.githubusercontent.com/IBM/telco-customer-churn-on-icp4d/master/data/Telco-Customer-Churn.csv\"\n",
    "\n",
    "# Load the dataset into a pandas DataFrame\n",
    "df = pd.read_csv(DATA_URL)\n"
   ]
  },
  {
   "cell_type": "code",
   "execution_count": null,
   "id": "e7b38fad",
   "metadata": {},
   "outputs": [
    {
     "name": "stdout",
     "output_type": "stream",
     "text": [
      "<class 'pandas.core.frame.DataFrame'>\n",
      "RangeIndex: 7043 entries, 0 to 7042\n",
      "Data columns (total 21 columns):\n",
      " #   Column            Non-Null Count  Dtype  \n",
      "---  ------            --------------  -----  \n",
      " 0   customerID        7043 non-null   object \n",
      " 1   gender            7043 non-null   object \n",
      " 2   SeniorCitizen     7043 non-null   int64  \n",
      " 3   Partner           7043 non-null   object \n",
      " 4   Dependents        7043 non-null   object \n",
      " 5   tenure            7043 non-null   int64  \n",
      " 6   PhoneService      7043 non-null   object \n",
      " 7   MultipleLines     7043 non-null   object \n",
      " 8   InternetService   7043 non-null   object \n",
      " 9   OnlineSecurity    7043 non-null   object \n",
      " 10  OnlineBackup      7043 non-null   object \n",
      " 11  DeviceProtection  7043 non-null   object \n",
      " 12  TechSupport       7043 non-null   object \n",
      " 13  StreamingTV       7043 non-null   object \n",
      " 14  StreamingMovies   7043 non-null   object \n",
      " 15  Contract          7043 non-null   object \n",
      " 16  PaperlessBilling  7043 non-null   object \n",
      " 17  PaymentMethod     7043 non-null   object \n",
      " 18  MonthlyCharges    7043 non-null   float64\n",
      " 19  TotalCharges      7043 non-null   object \n",
      " 20  Churn             7043 non-null   object \n",
      "dtypes: float64(1), int64(2), object(18)\n",
      "memory usage: 1.1+ MB\n"
     ]
    }
   ],
   "source": [
    "# 1st examine the data~\n",
    "# The Shape: What are the overall dimensions of our data?\n",
    "df.shape"
   ]
  },
  {
   "cell_type": "code",
   "execution_count": null,
   "id": "642ca7a5",
   "metadata": {},
   "outputs": [],
   "source": [
    "# It gives us a feel for the columns and the values within them.\n",
    "df.head()"
   ]
  },
  {
   "cell_type": "code",
   "execution_count": null,
   "id": "68d9267f",
   "metadata": {},
   "outputs": [],
   "source": [
    "#This is the most critical diagnostic tool at this stage. It tells us about potential problems like missing values and incorrect data types.\n",
    "df.info()"
   ]
  },
  {
   "cell_type": "code",
   "execution_count": null,
   "id": "25cfa9e6",
   "metadata": {},
   "outputs": [],
   "source": [
    "# Attempt to convert 'TotalCharges' to a number, turning problematic values into NaN\n",
    "df[\"TotalCharges\"] = pd.to_numeric(df[\"TotalCharges\"], errors=\"coerce\")\n"
   ]
  },
  {
   "cell_type": "code",
   "execution_count": null,
   "id": "3c12804f",
   "metadata": {},
   "outputs": [],
   "source": [
    "\n",
    "# Now, let's run .info() again and see what changed!\n",
    "df.info()"
   ]
  },
  {
   "cell_type": "code",
   "execution_count": null,
   "id": "13ce46fe",
   "metadata": {},
   "outputs": [],
   "source": [
    "# Print shape before dropping to see the change\n",
    "print(\"Shape before dropping NaN:\", df.shape)\n"
   ]
  },
  {
   "cell_type": "code",
   "execution_count": null,
   "id": "ebe694d7",
   "metadata": {},
   "outputs": [],
   "source": [
    "\n",
    "# Drop rows with any NaN values\n",
    "df.dropna(inplace=True)\n",
    "\n",
    "# inplace=True modifies the DataFrame directly.\n",
    "# Be careful with this! It's good practice to re-assign:\n",
    "# df = df.dropna()\n"
   ]
  },
  {
   "cell_type": "code",
   "execution_count": null,
   "id": "760bd69a",
   "metadata": {},
   "outputs": [],
   "source": [
    "# Print shape after dropping to confirm\n",
    "print(\"Shape after dropping NaN:\", df.shape)\n",
    "\n",
    "# You can also run df.info() again to see that all columns now have the same non-null count."
   ]
  },
  {
   "cell_type": "code",
   "execution_count": null,
   "id": "b77ab87c",
   "metadata": {},
   "outputs": [],
   "source": [
    "# Create a copy to keep the original df safe\n",
    "df_processed = df.copy()\n"
   ]
  },
  {
   "cell_type": "code",
   "execution_count": null,
   "id": "e24a0ab2",
   "metadata": {},
   "outputs": [],
   "source": [
    "\n",
    "# 1. Encode the target variable 'Churn'\n",
    "df_processed[\"Churn\"] = df_processed[\"Churn\"].map({\"No\": 0, \"Yes\": 1})\n"
   ]
  },
  {
   "cell_type": "code",
   "execution_count": null,
   "id": "660d506e",
   "metadata": {},
   "outputs": [],
   "source": [
    "\n",
    "# 2. Drop the unnecessary customerID column\n",
    "df_processed = df_processed.drop(\"customerID\", axis=1)\n"
   ]
  },
  {
   "cell_type": "code",
   "execution_count": null,
   "id": "68dea219",
   "metadata": {},
   "outputs": [],
   "source": [
    "\n",
    "# 3. Identify all remaining text columns to be one-hot encoded\n",
    "# We can be clever and ask pandas to find all 'object' type columns\n",
    "categorical_cols = df_processed.select_dtypes(include=[\"object\"]).columns\n"
   ]
  },
  {
   "cell_type": "code",
   "execution_count": null,
   "id": "08984cb2",
   "metadata": {},
   "outputs": [],
   "source": [
    "\n",
    "# 4. Perform one-hot encoding using pandas get_dummies()\n",
    "df_processed = pd.get_dummies(df_processed, columns=categorical_cols, drop_first=True)\n",
    "\n",
    "# 'drop_first=True' is a good practice to avoid redundancy.\n",
    "# For a 'gender' column (Male/Female), it creates only one new column 'gender_Male'.\n",
    "# If 'gender_Male' is 1, they are Male. If it's 0, they must be Female.\n"
   ]
  },
  {
   "cell_type": "code",
   "execution_count": null,
   "id": "36621db4",
   "metadata": {},
   "outputs": [],
   "source": [
    "\n",
    "# Let's look at the result!\n",
    "print(\"--- DataFrame after Encoding ---\")\n",
    "print(df_processed.info())\n",
    "\n",
    "print(\"\\n--- First 5 rows of the new data ---\")\n",
    "print(df_processed.head())"
   ]
  }
 ],
 "metadata": {
  "kernelspec": {
   "display_name": "Python 3",
   "language": "python",
   "name": "python3"
  },
  "language_info": {
   "codemirror_mode": {
    "name": "ipython",
    "version": 3
   },
   "file_extension": ".py",
   "mimetype": "text/x-python",
   "name": "python",
   "nbconvert_exporter": "python",
   "pygments_lexer": "ipython3",
   "version": "3.13.5"
  }
 },
 "nbformat": 4,
 "nbformat_minor": 5
}
